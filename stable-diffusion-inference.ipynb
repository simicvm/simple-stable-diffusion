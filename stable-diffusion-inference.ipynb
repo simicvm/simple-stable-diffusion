{
  "nbformat": 4,
  "nbformat_minor": 0,
  "metadata": {
    "colab": {
      "provenance": [],
      "collapsed_sections": [],
      "include_colab_link": true
    },
    "kernelspec": {
      "name": "python3",
      "display_name": "Python 3"
    },
    "language_info": {
      "name": "python"
    },
    "accelerator": "GPU",
    "gpuClass": "standard"
  },
  "cells": [
    {
      "cell_type": "markdown",
      "metadata": {
        "id": "view-in-github",
        "colab_type": "text"
      },
      "source": [
        "<a href=\"https://colab.research.google.com/github/simicvm/simple-stable-diffusion/blob/main/stable-diffusion-inference.ipynb\" target=\"_parent\"><img src=\"https://colab.research.google.com/assets/colab-badge.svg\" alt=\"Open In Colab\"/></a>"
      ]
    },
    {
      "cell_type": "markdown",
      "source": [
        "## Best Avaliable Stable Diffusion™\n",
        "Use the [v1-5 model released by Runwayml](https://huggingface.co/runwayml/stable-diffusion-v1-5) together with the [fine-tuned VAE decoder by StabilityAI](https://huggingface.co/stabilityai/sd-vae-ft-mse)"
      ],
      "metadata": {
        "id": "lMI994rn4aYG"
      }
    },
    {
      "cell_type": "code",
      "execution_count": null,
      "metadata": {
        "cellView": "form",
        "id": "DPOtEVbl2mZO"
      },
      "outputs": [],
      "source": [
        "#@title Install Stuff\n",
        "!pip install diffusers transformers ftfy huggingface_hub\n",
        "from PIL import Image\n",
        "def image_grid(imgs, rows, cols):\n",
        "    assert len(imgs) == rows*cols\n",
        "\n",
        "    w, h = imgs[0].size\n",
        "    grid = Image.new('RGB', size=(cols*w, rows*h))\n",
        "    grid_w, grid_h = grid.size\n",
        "    \n",
        "    for i, img in enumerate(imgs):\n",
        "        grid.paste(img, box=(i%cols*w, i//cols*h))\n",
        "    return grid"
      ]
    },
    {
      "cell_type": "code",
      "source": [
        "#@title Login to the Hugging Face Hub\n",
        "#@markdown Don't forget to visit [the repo page](https://huggingface.co/runwayml/stable-diffusion-v1-5), read and accept the LICENSE if you agree\n",
        "from huggingface_hub import notebook_login\n",
        "\n",
        "notebook_login()"
      ],
      "metadata": {
        "cellView": "form",
        "id": "NtCNhPr_2qm3"
      },
      "execution_count": null,
      "outputs": []
    },
    {
      "cell_type": "code",
      "source": [
        "#@title Set up the pipeline\n",
        "from diffusers.models import AutoencoderKL\n",
        "from diffusers import StableDiffusionPipeline\n",
        "from torch import autocast\n",
        "import torch\n",
        "\n",
        "model = \"runwayml/stable-diffusion-v1-5\" #@param {type:\"string\"}\n",
        "vae = \"sd-vae-ft-mse\" #@param[\"original\", \"sd-vae-ft-mse\", \"sd-vae-ft-ema\"]\n",
        "if(vae!=\"original\"):\n",
        "  vae = AutoencoderKL.from_pretrained(f\"stabilityai/{vae}\")\n",
        "  pipe = StableDiffusionPipeline.from_pretrained(model, vae=vae, torch_dtype=torch.float16, revision=\"fp16\")\n",
        "else:\n",
        "  pipe = StableDiffusionPipeline.from_pretrained(model, torch_dtype=torch.float16, revision=\"fp16\") \n",
        "pipe.to(\"cuda\")"
      ],
      "metadata": {
        "id": "ju4Dpj2H3Zwm",
        "cellView": "form"
      },
      "execution_count": null,
      "outputs": []
    },
    {
      "cell_type": "code",
      "source": [
        "#@title Run the Stable Diffusion pipeline\n",
        "#@markdown Don't forget to use the placeholder token in your prompt\n",
        "\n",
        "prompt = \"a delicious popcorn cheesecake slice\" #@param {type:\"string\"}\n",
        "num_samples = 2 #@param {type:\"number\"}\n",
        "seed = -1 #@param {type:\"integer\"}\n",
        "steps = 50\n",
        "guidance_scale = 7.5\n",
        "with autocast(\"cuda\"):\n",
        "  if(seed == -1):\n",
        "    images = pipe([prompt] * num_samples, num_inference_steps=steps, guidance_scale=guidance_scale).images\n",
        "  else:\n",
        "    generator = torch.Generator(\"cuda\").manual_seed(seed)\n",
        "    images = pipe([prompt] * num_samples, num_inference_steps=steps, guidance_scale=guidance_scale, generator=generator).images\n",
        "grid = image_grid(images, 1, num_samples)\n",
        "grid"
      ],
      "metadata": {
        "cellView": "form",
        "id": "Fl8-SqFZ4XFl"
      },
      "execution_count": null,
      "outputs": []
    }
  ]
}